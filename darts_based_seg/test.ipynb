{
 "cells": [
  {
   "cell_type": "code",
   "execution_count": 3,
   "metadata": {},
   "outputs": [],
   "source": [
    "import torch\n",
    "\n",
    "save_path = 'output/2024-07-29/00_04_09/best_model.pt'"
   ]
  },
  {
   "cell_type": "code",
   "execution_count": 4,
   "metadata": {},
   "outputs": [
    {
     "name": "stdout",
     "output_type": "stream",
     "text": [
      "tensor([[[[ 2.9154,  4.2860,  4.7939,  ...,  4.7700,  3.7362,  2.4817],\n",
      "          [ 4.4024,  6.1205,  7.0065,  ...,  6.4127,  4.9894,  3.2767],\n",
      "          [ 5.3886,  7.6300,  8.2950,  ...,  6.0858,  4.6461,  3.1380],\n",
      "          ...,\n",
      "          [ 3.7813,  5.1670,  5.9281,  ...,  2.1707,  1.7763,  1.2019],\n",
      "          [ 2.6733,  3.7646,  4.2645,  ...,  1.5641,  1.2842,  0.8870],\n",
      "          [ 1.8539,  2.5289,  2.9333,  ...,  1.0442,  0.8777,  0.5977]],\n",
      "\n",
      "         [[-3.3043, -4.7573, -5.3153,  ..., -5.2895, -4.1619, -2.8321],\n",
      "          [-4.8424, -6.6569, -7.5989,  ..., -6.9810, -5.4497, -3.6581],\n",
      "          [-5.9816, -8.3651, -9.0734,  ..., -6.6913, -5.1290, -3.5396],\n",
      "          ...,\n",
      "          [-4.1703, -5.6451, -6.4308,  ..., -2.4848, -2.0609, -1.4527],\n",
      "          [-3.0053, -4.1626, -4.6845,  ..., -1.8250, -1.5372, -1.1070],\n",
      "          [-2.1342, -2.8558, -3.2782,  ..., -1.2797, -1.1029, -0.8022]]]],\n",
      "       device='cuda:0')\n"
     ]
    }
   ],
   "source": [
    "# 저장된 모델 파일을 로드합니다.\n",
    "checkpoint = torch.load(save_path)\n",
    "\n",
    "# 저장된 모델 구조를 사용하여 모델을 생성합니다.\n",
    "model = checkpoint['model']\n",
    "\n",
    "# 옵티마이저를 정의합니다. 모델 파라미터를 그대로 사용합니다.\n",
    "optimizer = torch.optim.Adam(model.parameters())\n",
    "\n",
    "# 모델과 옵티마이저 상태를 복원합니다.\n",
    "model.load_state_dict(checkpoint['model_state_dict'])\n",
    "\n",
    "# 모델을 평가 모드로 설정합니다.\n",
    "model.eval()\n",
    "\n",
    "# 추론을 위한 입력 데이터 예시 (예를 들어, 단일 이미지)\n",
    "# 여기서는 단순히 랜덤 텐서를 사용하지만 실제 데이터로 대체해야 합니다.\n",
    "input_data = torch.randn(1, 3, 128, 128)  # 배치 크기 1, 채널 1, 28x28 이미지\n",
    "\n",
    "# 모델을 사용하여 추론을 수행합니다.\n",
    "with torch.no_grad():\n",
    "    output = model(input_data)\n",
    "\n",
    "# 결과를 출력합니다.\n",
    "print(output)"
   ]
  }
 ],
 "metadata": {
  "kernelspec": {
   "display_name": "lab",
   "language": "python",
   "name": "python3"
  },
  "language_info": {
   "codemirror_mode": {
    "name": "ipython",
    "version": 3
   },
   "file_extension": ".py",
   "mimetype": "text/x-python",
   "name": "python",
   "nbconvert_exporter": "python",
   "pygments_lexer": "ipython3",
   "version": "3.10.14"
  }
 },
 "nbformat": 4,
 "nbformat_minor": 2
}
