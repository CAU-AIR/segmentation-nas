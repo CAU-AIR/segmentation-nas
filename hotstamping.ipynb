{
 "cells": [
  {
   "cell_type": "code",
   "execution_count": 1,
   "metadata": {},
   "outputs": [
    {
     "name": "stderr",
     "output_type": "stream",
     "text": [
      "/compuworks/anaconda3/envs/hspark/lib/python3.8/site-packages/tqdm/auto.py:21: TqdmWarning: IProgress not found. Please update jupyter and ipywidgets. See https://ipywidgets.readthedocs.io/en/stable/user_install.html\n",
      "  from .autonotebook import tqdm as notebook_tqdm\n"
     ]
    }
   ],
   "source": [
    "import os\n",
    "import cv2\n",
    "import numpy as np\n",
    "import matplotlib.pyplot as plt\n",
    "from torchvision import transforms\n",
    "from PIL import Image"
   ]
  },
  {
   "cell_type": "code",
   "execution_count": 2,
   "metadata": {},
   "outputs": [],
   "source": [
    "def calculate_miou(image1, image2):\n",
    "    intersection = np.logical_and(image1, image2).sum()\n",
    "    union = np.logical_or(image1, image2).sum()\n",
    "    miou = intersection / union\n",
    "    return miou"
   ]
  },
  {
   "cell_type": "code",
   "execution_count": 3,
   "metadata": {},
   "outputs": [],
   "source": [
    "def visualize_overlap(image1, image2, output_path):\n",
    "    overlap = cv2.addWeighted(image1, 0.5, image2, 1, 0)\n",
    "    plt.imshow(overlap, cmap='gray')\n",
    "    plt.axis('off')\n",
    "    plt.savefig(output_path)\n",
    "    plt.close()"
   ]
  },
  {
   "cell_type": "code",
   "execution_count": 4,
   "metadata": {},
   "outputs": [],
   "source": [
    "def resize_image(image_path):\n",
    "    image = Image.open(image_path).convert('L')\n",
    "    transform = transforms.Compose([\n",
    "        transforms.Resize((128, 128)),\n",
    "        transforms.ToTensor()\n",
    "    ])\n",
    "    image_tensor = transform(image)\n",
    "    image_array = image_tensor.numpy().squeeze() * 255\n",
    "    return image_array.astype(np.uint8)"
   ]
  },
  {
   "cell_type": "code",
   "execution_count": 5,
   "metadata": {},
   "outputs": [],
   "source": [
    "def process_folders(inference_dir, target_dir, output_dir):\n",
    "    miou = 0.0\n",
    "    count = 0\n",
    "\n",
    "    if not os.path.exists(output_dir):\n",
    "        os.makedirs(output_dir)\n",
    "\n",
    "    for folder_name in os.listdir(inference_dir):\n",
    "        inference_folder_path = os.path.join(inference_dir, folder_name)\n",
    "        target_folder_path = os.path.join(target_dir, folder_name)\n",
    "        \n",
    "        if os.path.isdir(inference_folder_path) and os.path.isdir(target_folder_path):\n",
    "            output_folder_path = os.path.join(output_dir, folder_name)\n",
    "            if not os.path.exists(output_folder_path):\n",
    "                os.makedirs(output_folder_path)\n",
    "                \n",
    "            for image_name in os.listdir(inference_folder_path):\n",
    "                if image_name.endswith('.jpg'):\n",
    "                    inference_image_path = os.path.join(inference_folder_path, image_name)\n",
    "                    target_image_path = os.path.join(target_folder_path, image_name)\n",
    "                    \n",
    "                    if os.path.exists(target_image_path):\n",
    "                        inference_image = resize_image(inference_image_path)\n",
    "                        target_image = resize_image(target_image_path)\n",
    "                        \n",
    "                        iou = calculate_miou(inference_image, target_image)\n",
    "                        miou += iou\n",
    "                        count += 1\n",
    "                        # print(f\"mIoU for {folder_name}/{image_name}: {miou:.4f}\")\n",
    "                        \n",
    "                        output_image_path = os.path.join(output_folder_path, image_name)\n",
    "                        visualize_overlap(inference_image, target_image, output_image_path)\n",
    "\n",
    "    return miou / count"
   ]
  },
  {
   "cell_type": "code",
   "execution_count": 6,
   "metadata": {},
   "outputs": [
    {
     "name": "stdout",
     "output_type": "stream",
     "text": [
      "Deep Learning\n",
      "0.5538659474189714\n",
      "Rule Based\n",
      "0.6010612750121942\n"
     ]
    }
   ],
   "source": [
    "base_dir = 'hot'\n",
    "inference_dir = os.path.join(base_dir, 'inference')\n",
    "rule_inference_dir = os.path.join(base_dir, 'rule_inference')\n",
    "target_dir = os.path.join(base_dir, 'target')\n",
    "\n",
    "inference_output_dir = os.path.join(base_dir, 'inference_output')\n",
    "rule_inference_output_dir = os.path.join(base_dir, 'rule_inference_output')\n",
    "\n",
    "print(\"Deep Learning\")\n",
    "miou = process_folders(inference_dir, target_dir, inference_output_dir)\n",
    "print(miou)\n",
    "print(\"Rule Based\")\n",
    "rule_miou = process_folders(rule_inference_dir, target_dir, rule_inference_output_dir)\n",
    "print(rule_miou)"
   ]
  }
 ],
 "metadata": {
  "kernelspec": {
   "display_name": "hspark",
   "language": "python",
   "name": "python3"
  },
  "language_info": {
   "codemirror_mode": {
    "name": "ipython",
    "version": 3
   },
   "file_extension": ".py",
   "mimetype": "text/x-python",
   "name": "python",
   "nbconvert_exporter": "python",
   "pygments_lexer": "ipython3",
   "version": "3.8.5"
  }
 },
 "nbformat": 4,
 "nbformat_minor": 2
}
